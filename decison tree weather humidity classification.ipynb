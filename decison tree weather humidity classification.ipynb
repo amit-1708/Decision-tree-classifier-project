{
 "cells": [
  {
   "cell_type": "markdown",
   "id": "9cb968e9",
   "metadata": {},
   "source": [
    "### task is to  predict the humidity will be high or not at 3 pm  based on the other input feature"
   ]
  },
  {
   "cell_type": "code",
   "execution_count": 9,
   "id": "f56b56ef",
   "metadata": {},
   "outputs": [],
   "source": [
    "### import libraries"
   ]
  },
  {
   "cell_type": "code",
   "execution_count": 10,
   "id": "469d28d6",
   "metadata": {},
   "outputs": [],
   "source": [
    "import pandas as pd\n",
    "from sklearn.model_selection import train_test_split\n",
    "from sklearn.tree import DecisionTreeClassifier\n",
    "from sklearn.metrics import accuracy_score\n",
    "from sklearn import tree\n",
    "import matplotlib.pyplot as plt"
   ]
  },
  {
   "cell_type": "code",
   "execution_count": 11,
   "id": "8cd56866",
   "metadata": {},
   "outputs": [],
   "source": [
    "df = pd.read_csv(r\"C:\\Users\\abhis\\Downloads\\daily_weather.csv\")"
   ]
  },
  {
   "cell_type": "code",
   "execution_count": 12,
   "id": "df91ace8",
   "metadata": {},
   "outputs": [
    {
     "data": {
      "text/html": [
       "<div>\n",
       "<style scoped>\n",
       "    .dataframe tbody tr th:only-of-type {\n",
       "        vertical-align: middle;\n",
       "    }\n",
       "\n",
       "    .dataframe tbody tr th {\n",
       "        vertical-align: top;\n",
       "    }\n",
       "\n",
       "    .dataframe thead th {\n",
       "        text-align: right;\n",
       "    }\n",
       "</style>\n",
       "<table border=\"1\" class=\"dataframe\">\n",
       "  <thead>\n",
       "    <tr style=\"text-align: right;\">\n",
       "      <th></th>\n",
       "      <th>air_pressure_9am</th>\n",
       "      <th>air_temp_9am</th>\n",
       "      <th>avg_wind_direction_9am</th>\n",
       "      <th>avg_wind_speed_9am</th>\n",
       "      <th>max_wind_direction_9am</th>\n",
       "      <th>max_wind_speed_9am</th>\n",
       "      <th>rain_accumulation_9am</th>\n",
       "      <th>rain_duration_9am</th>\n",
       "      <th>relative_humidity_9am</th>\n",
       "      <th>high_humidity_3pm</th>\n",
       "    </tr>\n",
       "  </thead>\n",
       "  <tbody>\n",
       "    <tr>\n",
       "      <th>0</th>\n",
       "      <td>918.060000</td>\n",
       "      <td>74.822000</td>\n",
       "      <td>271.100000</td>\n",
       "      <td>2.080354</td>\n",
       "      <td>295.400000</td>\n",
       "      <td>2.863283</td>\n",
       "      <td>0.0</td>\n",
       "      <td>0.0</td>\n",
       "      <td>42.420000</td>\n",
       "      <td>1</td>\n",
       "    </tr>\n",
       "    <tr>\n",
       "      <th>1</th>\n",
       "      <td>917.347688</td>\n",
       "      <td>71.403843</td>\n",
       "      <td>101.935179</td>\n",
       "      <td>2.443009</td>\n",
       "      <td>140.471549</td>\n",
       "      <td>3.533324</td>\n",
       "      <td>0.0</td>\n",
       "      <td>0.0</td>\n",
       "      <td>24.328697</td>\n",
       "      <td>0</td>\n",
       "    </tr>\n",
       "    <tr>\n",
       "      <th>2</th>\n",
       "      <td>923.040000</td>\n",
       "      <td>60.638000</td>\n",
       "      <td>51.000000</td>\n",
       "      <td>17.067852</td>\n",
       "      <td>63.700000</td>\n",
       "      <td>22.100967</td>\n",
       "      <td>0.0</td>\n",
       "      <td>20.0</td>\n",
       "      <td>8.900000</td>\n",
       "      <td>0</td>\n",
       "    </tr>\n",
       "    <tr>\n",
       "      <th>3</th>\n",
       "      <td>920.502751</td>\n",
       "      <td>70.138895</td>\n",
       "      <td>198.832133</td>\n",
       "      <td>4.337363</td>\n",
       "      <td>211.203341</td>\n",
       "      <td>5.190045</td>\n",
       "      <td>0.0</td>\n",
       "      <td>0.0</td>\n",
       "      <td>12.189102</td>\n",
       "      <td>0</td>\n",
       "    </tr>\n",
       "    <tr>\n",
       "      <th>4</th>\n",
       "      <td>921.160000</td>\n",
       "      <td>44.294000</td>\n",
       "      <td>277.800000</td>\n",
       "      <td>1.856660</td>\n",
       "      <td>136.500000</td>\n",
       "      <td>2.863283</td>\n",
       "      <td>8.9</td>\n",
       "      <td>14730.0</td>\n",
       "      <td>92.410000</td>\n",
       "      <td>1</td>\n",
       "    </tr>\n",
       "  </tbody>\n",
       "</table>\n",
       "</div>"
      ],
      "text/plain": [
       "   air_pressure_9am  air_temp_9am  avg_wind_direction_9am  avg_wind_speed_9am  \\\n",
       "0        918.060000     74.822000              271.100000            2.080354   \n",
       "1        917.347688     71.403843              101.935179            2.443009   \n",
       "2        923.040000     60.638000               51.000000           17.067852   \n",
       "3        920.502751     70.138895              198.832133            4.337363   \n",
       "4        921.160000     44.294000              277.800000            1.856660   \n",
       "\n",
       "   max_wind_direction_9am  max_wind_speed_9am  rain_accumulation_9am  \\\n",
       "0              295.400000            2.863283                    0.0   \n",
       "1              140.471549            3.533324                    0.0   \n",
       "2               63.700000           22.100967                    0.0   \n",
       "3              211.203341            5.190045                    0.0   \n",
       "4              136.500000            2.863283                    8.9   \n",
       "\n",
       "   rain_duration_9am  relative_humidity_9am  high_humidity_3pm  \n",
       "0                0.0              42.420000                  1  \n",
       "1                0.0              24.328697                  0  \n",
       "2               20.0               8.900000                  0  \n",
       "3                0.0              12.189102                  0  \n",
       "4            14730.0              92.410000                  1  "
      ]
     },
     "execution_count": 12,
     "metadata": {},
     "output_type": "execute_result"
    }
   ],
   "source": [
    "df.head()"
   ]
  },
  {
   "cell_type": "code",
   "execution_count": 13,
   "id": "318bfcd5",
   "metadata": {},
   "outputs": [
    {
     "name": "stdout",
     "output_type": "stream",
     "text": [
      "<class 'pandas.core.frame.DataFrame'>\n",
      "RangeIndex: 1095 entries, 0 to 1094\n",
      "Data columns (total 10 columns):\n",
      " #   Column                  Non-Null Count  Dtype  \n",
      "---  ------                  --------------  -----  \n",
      " 0   air_pressure_9am        1092 non-null   float64\n",
      " 1   air_temp_9am            1090 non-null   float64\n",
      " 2   avg_wind_direction_9am  1091 non-null   float64\n",
      " 3   avg_wind_speed_9am      1092 non-null   float64\n",
      " 4   max_wind_direction_9am  1092 non-null   float64\n",
      " 5   max_wind_speed_9am      1091 non-null   float64\n",
      " 6   rain_accumulation_9am   1089 non-null   float64\n",
      " 7   rain_duration_9am       1092 non-null   float64\n",
      " 8   relative_humidity_9am   1095 non-null   float64\n",
      " 9   high_humidity_3pm       1095 non-null   int64  \n",
      "dtypes: float64(9), int64(1)\n",
      "memory usage: 85.7 KB\n"
     ]
    }
   ],
   "source": [
    "df.info()"
   ]
  },
  {
   "cell_type": "code",
   "execution_count": 14,
   "id": "6896421b",
   "metadata": {},
   "outputs": [
    {
     "data": {
      "text/plain": [
       "air_pressure_9am          3\n",
       "air_temp_9am              5\n",
       "avg_wind_direction_9am    4\n",
       "avg_wind_speed_9am        3\n",
       "max_wind_direction_9am    3\n",
       "max_wind_speed_9am        4\n",
       "rain_accumulation_9am     6\n",
       "rain_duration_9am         3\n",
       "relative_humidity_9am     0\n",
       "high_humidity_3pm         0\n",
       "dtype: int64"
      ]
     },
     "execution_count": 14,
     "metadata": {},
     "output_type": "execute_result"
    }
   ],
   "source": [
    "df.isnull().sum()"
   ]
  },
  {
   "cell_type": "code",
   "execution_count": 15,
   "id": "812b1685",
   "metadata": {},
   "outputs": [],
   "source": [
    "#### remove the null value"
   ]
  },
  {
   "cell_type": "code",
   "execution_count": 16,
   "id": "77dac6b0",
   "metadata": {},
   "outputs": [],
   "source": [
    "df.dropna(inplace = True)"
   ]
  },
  {
   "cell_type": "code",
   "execution_count": 17,
   "id": "5b4df8dd",
   "metadata": {},
   "outputs": [
    {
     "data": {
      "text/plain": [
       "air_pressure_9am          0\n",
       "air_temp_9am              0\n",
       "avg_wind_direction_9am    0\n",
       "avg_wind_speed_9am        0\n",
       "max_wind_direction_9am    0\n",
       "max_wind_speed_9am        0\n",
       "rain_accumulation_9am     0\n",
       "rain_duration_9am         0\n",
       "relative_humidity_9am     0\n",
       "high_humidity_3pm         0\n",
       "dtype: int64"
      ]
     },
     "execution_count": 17,
     "metadata": {},
     "output_type": "execute_result"
    }
   ],
   "source": [
    "df.isnull().sum()"
   ]
  },
  {
   "cell_type": "code",
   "execution_count": 18,
   "id": "e1457359",
   "metadata": {},
   "outputs": [
    {
     "data": {
      "text/html": [
       "<div>\n",
       "<style scoped>\n",
       "    .dataframe tbody tr th:only-of-type {\n",
       "        vertical-align: middle;\n",
       "    }\n",
       "\n",
       "    .dataframe tbody tr th {\n",
       "        vertical-align: top;\n",
       "    }\n",
       "\n",
       "    .dataframe thead th {\n",
       "        text-align: right;\n",
       "    }\n",
       "</style>\n",
       "<table border=\"1\" class=\"dataframe\">\n",
       "  <thead>\n",
       "    <tr style=\"text-align: right;\">\n",
       "      <th></th>\n",
       "      <th>air_pressure_9am</th>\n",
       "      <th>air_temp_9am</th>\n",
       "      <th>avg_wind_direction_9am</th>\n",
       "      <th>avg_wind_speed_9am</th>\n",
       "      <th>max_wind_direction_9am</th>\n",
       "      <th>max_wind_speed_9am</th>\n",
       "      <th>rain_accumulation_9am</th>\n",
       "      <th>rain_duration_9am</th>\n",
       "      <th>relative_humidity_9am</th>\n",
       "      <th>high_humidity_3pm</th>\n",
       "    </tr>\n",
       "  </thead>\n",
       "  <tbody>\n",
       "    <tr>\n",
       "      <th>count</th>\n",
       "      <td>1064.000000</td>\n",
       "      <td>1064.000000</td>\n",
       "      <td>1064.000000</td>\n",
       "      <td>1064.000000</td>\n",
       "      <td>1064.000000</td>\n",
       "      <td>1064.000000</td>\n",
       "      <td>1064.000000</td>\n",
       "      <td>1064.000000</td>\n",
       "      <td>1064.000000</td>\n",
       "      <td>1064.000000</td>\n",
       "    </tr>\n",
       "    <tr>\n",
       "      <th>mean</th>\n",
       "      <td>918.903180</td>\n",
       "      <td>65.022609</td>\n",
       "      <td>142.306756</td>\n",
       "      <td>5.485793</td>\n",
       "      <td>148.480424</td>\n",
       "      <td>6.999714</td>\n",
       "      <td>0.182023</td>\n",
       "      <td>266.393697</td>\n",
       "      <td>34.077440</td>\n",
       "      <td>0.497180</td>\n",
       "    </tr>\n",
       "    <tr>\n",
       "      <th>std</th>\n",
       "      <td>3.179040</td>\n",
       "      <td>11.168033</td>\n",
       "      <td>69.149472</td>\n",
       "      <td>4.534427</td>\n",
       "      <td>67.154911</td>\n",
       "      <td>5.590790</td>\n",
       "      <td>1.534493</td>\n",
       "      <td>1503.092216</td>\n",
       "      <td>25.356668</td>\n",
       "      <td>0.500227</td>\n",
       "    </tr>\n",
       "    <tr>\n",
       "      <th>min</th>\n",
       "      <td>907.990000</td>\n",
       "      <td>36.752000</td>\n",
       "      <td>15.500000</td>\n",
       "      <td>0.693451</td>\n",
       "      <td>28.900000</td>\n",
       "      <td>1.185578</td>\n",
       "      <td>0.000000</td>\n",
       "      <td>0.000000</td>\n",
       "      <td>6.090000</td>\n",
       "      <td>0.000000</td>\n",
       "    </tr>\n",
       "    <tr>\n",
       "      <th>25%</th>\n",
       "      <td>916.595376</td>\n",
       "      <td>57.398000</td>\n",
       "      <td>65.979244</td>\n",
       "      <td>2.245529</td>\n",
       "      <td>76.335351</td>\n",
       "      <td>3.064608</td>\n",
       "      <td>0.000000</td>\n",
       "      <td>0.000000</td>\n",
       "      <td>15.093365</td>\n",
       "      <td>0.000000</td>\n",
       "    </tr>\n",
       "    <tr>\n",
       "      <th>50%</th>\n",
       "      <td>918.942281</td>\n",
       "      <td>65.778479</td>\n",
       "      <td>165.937461</td>\n",
       "      <td>3.869906</td>\n",
       "      <td>176.350000</td>\n",
       "      <td>4.943637</td>\n",
       "      <td>0.000000</td>\n",
       "      <td>0.000000</td>\n",
       "      <td>23.135000</td>\n",
       "      <td>0.000000</td>\n",
       "    </tr>\n",
       "    <tr>\n",
       "      <th>75%</th>\n",
       "      <td>921.169054</td>\n",
       "      <td>73.530872</td>\n",
       "      <td>191.100000</td>\n",
       "      <td>7.264463</td>\n",
       "      <td>201.125000</td>\n",
       "      <td>8.747888</td>\n",
       "      <td>0.000000</td>\n",
       "      <td>0.000000</td>\n",
       "      <td>44.660000</td>\n",
       "      <td>1.000000</td>\n",
       "    </tr>\n",
       "    <tr>\n",
       "      <th>max</th>\n",
       "      <td>929.320000</td>\n",
       "      <td>98.906000</td>\n",
       "      <td>343.400000</td>\n",
       "      <td>23.554978</td>\n",
       "      <td>312.200000</td>\n",
       "      <td>29.840780</td>\n",
       "      <td>24.020000</td>\n",
       "      <td>17704.000000</td>\n",
       "      <td>92.620000</td>\n",
       "      <td>1.000000</td>\n",
       "    </tr>\n",
       "  </tbody>\n",
       "</table>\n",
       "</div>"
      ],
      "text/plain": [
       "       air_pressure_9am  air_temp_9am  avg_wind_direction_9am  \\\n",
       "count       1064.000000   1064.000000             1064.000000   \n",
       "mean         918.903180     65.022609              142.306756   \n",
       "std            3.179040     11.168033               69.149472   \n",
       "min          907.990000     36.752000               15.500000   \n",
       "25%          916.595376     57.398000               65.979244   \n",
       "50%          918.942281     65.778479              165.937461   \n",
       "75%          921.169054     73.530872              191.100000   \n",
       "max          929.320000     98.906000              343.400000   \n",
       "\n",
       "       avg_wind_speed_9am  max_wind_direction_9am  max_wind_speed_9am  \\\n",
       "count         1064.000000             1064.000000         1064.000000   \n",
       "mean             5.485793              148.480424            6.999714   \n",
       "std              4.534427               67.154911            5.590790   \n",
       "min              0.693451               28.900000            1.185578   \n",
       "25%              2.245529               76.335351            3.064608   \n",
       "50%              3.869906              176.350000            4.943637   \n",
       "75%              7.264463              201.125000            8.747888   \n",
       "max             23.554978              312.200000           29.840780   \n",
       "\n",
       "       rain_accumulation_9am  rain_duration_9am  relative_humidity_9am  \\\n",
       "count            1064.000000        1064.000000            1064.000000   \n",
       "mean                0.182023         266.393697              34.077440   \n",
       "std                 1.534493        1503.092216              25.356668   \n",
       "min                 0.000000           0.000000               6.090000   \n",
       "25%                 0.000000           0.000000              15.093365   \n",
       "50%                 0.000000           0.000000              23.135000   \n",
       "75%                 0.000000           0.000000              44.660000   \n",
       "max                24.020000       17704.000000              92.620000   \n",
       "\n",
       "       high_humidity_3pm  \n",
       "count        1064.000000  \n",
       "mean            0.497180  \n",
       "std             0.500227  \n",
       "min             0.000000  \n",
       "25%             0.000000  \n",
       "50%             0.000000  \n",
       "75%             1.000000  \n",
       "max             1.000000  "
      ]
     },
     "execution_count": 18,
     "metadata": {},
     "output_type": "execute_result"
    }
   ],
   "source": [
    "df.describe()"
   ]
  },
  {
   "cell_type": "code",
   "execution_count": 19,
   "id": "25a64fac",
   "metadata": {},
   "outputs": [
    {
     "data": {
      "text/plain": [
       "0    535\n",
       "1    529\n",
       "Name: high_humidity_3pm, dtype: int64"
      ]
     },
     "execution_count": 19,
     "metadata": {},
     "output_type": "execute_result"
    }
   ],
   "source": [
    "df.high_humidity_3pm.value_counts()"
   ]
  },
  {
   "cell_type": "markdown",
   "id": "84821365",
   "metadata": {},
   "source": [
    "- 0 represent humidity will not be high at 3 pm\n",
    "- 1 represent humidity will be high at 3 pm"
   ]
  },
  {
   "cell_type": "markdown",
   "id": "203abb1c",
   "metadata": {},
   "source": [
    "### saperate the data into dependent and independent features"
   ]
  },
  {
   "cell_type": "code",
   "execution_count": 20,
   "id": "6a42ae57",
   "metadata": {},
   "outputs": [],
   "source": [
    "x= df.iloc[:,:9]"
   ]
  },
  {
   "cell_type": "code",
   "execution_count": 21,
   "id": "9165ee09",
   "metadata": {},
   "outputs": [],
   "source": [
    "y=df.iloc[:,-1]"
   ]
  },
  {
   "cell_type": "code",
   "execution_count": 22,
   "id": "6f771742",
   "metadata": {},
   "outputs": [],
   "source": [
    "### create instance of the decision tree classifier"
   ]
  },
  {
   "cell_type": "code",
   "execution_count": 23,
   "id": "edcc385f",
   "metadata": {},
   "outputs": [],
   "source": [
    "classifier = DecisionTreeClassifier(criterion='entropy', max_leaf_nodes=10, random_state=0)"
   ]
  },
  {
   "cell_type": "code",
   "execution_count": 24,
   "id": "a85bb9ed",
   "metadata": {},
   "outputs": [],
   "source": [
    "### split the dataset into the train and test data"
   ]
  },
  {
   "cell_type": "code",
   "execution_count": 25,
   "id": "671c895c",
   "metadata": {},
   "outputs": [],
   "source": [
    "x_train,x_test,y_train,y_test = train_test_split(x,y,test_size=0.25,random_state=0)"
   ]
  },
  {
   "cell_type": "code",
   "execution_count": 26,
   "id": "82c69f8e",
   "metadata": {},
   "outputs": [
    {
     "name": "stdout",
     "output_type": "stream",
     "text": [
      "(798, 9) (266, 9)\n"
     ]
    }
   ],
   "source": [
    "print(x_train.shape,x_test.shape)"
   ]
  },
  {
   "cell_type": "code",
   "execution_count": 27,
   "id": "38ecc8f1",
   "metadata": {},
   "outputs": [
    {
     "data": {
      "text/plain": [
       "DecisionTreeClassifier(criterion='entropy', max_leaf_nodes=10, random_state=0)"
      ]
     },
     "execution_count": 27,
     "metadata": {},
     "output_type": "execute_result"
    }
   ],
   "source": [
    "classifier.fit(x_train,y_train)"
   ]
  },
  {
   "cell_type": "code",
   "execution_count": 28,
   "id": "8a06b676",
   "metadata": {},
   "outputs": [],
   "source": [
    "y_pred = classifier.predict(x_test)"
   ]
  },
  {
   "cell_type": "code",
   "execution_count": 29,
   "id": "2059bb8e",
   "metadata": {},
   "outputs": [
    {
     "data": {
      "text/plain": [
       "array([0, 1, 1, 1, 0, 1, 0, 0, 1, 1], dtype=int64)"
      ]
     },
     "execution_count": 29,
     "metadata": {},
     "output_type": "execute_result"
    }
   ],
   "source": [
    "y_pred[:10]"
   ]
  },
  {
   "cell_type": "code",
   "execution_count": 30,
   "id": "ef1b1546",
   "metadata": {},
   "outputs": [
    {
     "data": {
      "text/plain": [
       "178     1\n",
       "1013    1\n",
       "704     1\n",
       "533     1\n",
       "882     0\n",
       "712     1\n",
       "254     1\n",
       "1036    0\n",
       "642     1\n",
       "207     1\n",
       "Name: high_humidity_3pm, dtype: int64"
      ]
     },
     "execution_count": 30,
     "metadata": {},
     "output_type": "execute_result"
    }
   ],
   "source": [
    "y_test[:10]"
   ]
  },
  {
   "cell_type": "code",
   "execution_count": 31,
   "id": "55263353",
   "metadata": {},
   "outputs": [],
   "source": [
    "accuracy = accuracy_score(y_test,y_pred)*100"
   ]
  },
  {
   "cell_type": "code",
   "execution_count": 32,
   "id": "2b86ed99",
   "metadata": {},
   "outputs": [
    {
     "name": "stdout",
     "output_type": "stream",
     "text": [
      "the accuracy of the decision tree classifier is : 90.22556390977444 %\n"
     ]
    }
   ],
   "source": [
    "print('the accuracy of the decision tree classifier is :',accuracy,'%')"
   ]
  },
  {
   "cell_type": "markdown",
   "id": "08fdf778",
   "metadata": {},
   "source": [
    "#### visualizing the decision tree using sklearn "
   ]
  },
  {
   "cell_type": "code",
   "execution_count": 37,
   "id": "784fddbb",
   "metadata": {},
   "outputs": [
    {
     "data": {
      "image/png": "[encoded data removed]",
      "text/plain": [
       "<Figure size 1440x720 with 1 Axes>"
      ]
     },
     "metadata": {
      "needs_background": "light"
     },
     "output_type": "display_data"
    }
   ],
   "source": [
    "plt.figure(figsize=(20, 10))\n",
    "tree.plot_tree(classifier,\n",
    "               feature_names=x_train.columns,\n",
    "               class_names=['0','1'],\n",
    "               filled=True,\n",
    "               rounded=True)\n",
    "\n",
    "plt.show()"
   ]
  },
  {
   "cell_type": "code",
   "execution_count": 41,
   "id": "a9d6ebbe",
   "metadata": {},
   "outputs": [],
   "source": [
    "### tree.export_text function give the information of the tree split  in the text format"
   ]
  },
  {
   "cell_type": "code",
   "execution_count": 39,
   "id": "193ab83d",
   "metadata": {},
   "outputs": [
    {
     "name": "stdout",
     "output_type": "stream",
     "text": [
      "|--- feature_8 <= 25.74\n",
      "|   |--- feature_0 <= 918.62\n",
      "|   |   |--- feature_8 <= 21.20\n",
      "|   |   |   |--- class: 0\n",
      "|   |   |--- feature_8 >  21.20\n",
      "|   |   |   |--- class: 1\n",
      "|   |--- feature_0 >  918.62\n",
      "|   |   |--- feature_8 <= 20.07\n",
      "|   |   |   |--- class: 0\n",
      "|   |   |--- feature_8 >  20.07\n",
      "|   |   |   |--- class: 0\n",
      "|--- feature_8 >  25.74\n",
      "|   |--- feature_8 <= 50.76\n",
      "|   |   |--- feature_0 <= 920.29\n",
      "|   |   |   |--- feature_8 <= 31.22\n",
      "|   |   |   |   |--- class: 1\n",
      "|   |   |   |--- feature_8 >  31.22\n",
      "|   |   |   |   |--- class: 1\n",
      "|   |   |--- feature_0 >  920.29\n",
      "|   |   |   |--- feature_1 <= 51.90\n",
      "|   |   |   |   |--- class: 0\n",
      "|   |   |   |--- feature_1 >  51.90\n",
      "|   |   |   |   |--- feature_1 <= 65.20\n",
      "|   |   |   |   |   |--- class: 1\n",
      "|   |   |   |   |--- feature_1 >  65.20\n",
      "|   |   |   |   |   |--- class: 0\n",
      "|   |--- feature_8 >  50.76\n",
      "|   |   |--- class: 1\n",
      "\n"
     ]
    }
   ],
   "source": [
    "print(tree.export_text(classifier))"
   ]
  },
  {
   "cell_type": "code",
   "execution_count": null,
   "id": "5584244a",
   "metadata": {},
   "outputs": [],
   "source": []
  },
  {
   "cell_type": "code",
   "execution_count": null,
   "id": "f538280a",
   "metadata": {},
   "outputs": [],
   "source": []
  }
 ],
 "metadata": {
  "kernelspec": {
   "display_name": "Python 3 (ipykernel)",
   "language": "python",
   "name": "python3"
  },
  "language_info": {
   "codemirror_mode": {
    "name": "ipython",
    "version": 3
   },
   "file_extension": ".py",
   "mimetype": "text/x-python",
   "name": "python",
   "nbconvert_exporter": "python",
   "pygments_lexer": "ipython3",
   "version": "3.9.12"
  }
 },
 "nbformat": 4,
 "nbformat_minor": 5
}
